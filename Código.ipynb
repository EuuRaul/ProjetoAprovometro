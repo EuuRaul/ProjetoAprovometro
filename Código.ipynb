{
  "nbformat": 4,
  "nbformat_minor": 0,
  "metadata": {
    "colab": {
      "provenance": [],
      "authorship_tag": "ABX9TyPgNVjwOkIRBncCEp7ne6pQ"
    },
    "kernelspec": {
      "name": "python3",
      "display_name": "Python 3"
    },
    "language_info": {
      "name": "python"
    }
  },
  "cells": [
    {
      "cell_type": "code",
      "source": [
        "# Abertura do Projeto\n",
        "print(\"Olá! Bem vindo (a) ao Aprovômetro.\")\n",
        "nome_aluno = input(\"Digite seu nome completo:\")\n",
        "nome_escola = input(\"Nome da sua instituição de ensino: \")\n",
        "notas_media = float(input(\"Qual foi sua media de notas anual? \"))\n",
        "APROVAÇÃO = \"aluno(a) aprovado\"\n",
        "RECUPERAÇÃO = \"aluno(a) de recuperação\"\n",
        "REPROVADO = \"aluno(a) reprovado\"\n",
        "\n",
        "# Validação de entrada de nota\n",
        "if notas_media >= 6.0:\n",
        "  print(f\"\\n{(APROVAÇÃO.upper().strip())} \\n Parabéns {nome_aluno}! O {nome_escola} lê deseja parábens por sua aprovação.\")\n",
        "  print(f\"Baseado no cálculo de dados sua media anual foi: {notas_media}\" )\n",
        "  resposta = input(\"Gostaria de pedir recurso? (Sim/Não) \").strip().lower()\n",
        "elif 6.0 > notas_media >= 4.0:\n",
        "  print(f\"\\n{RECUPERAÇÃO.upper().strip()} \\n O(a) aluno {nome_aluno} não bateu a media requisitada para sua aprovação, porém será possivel fazer sua recupeção. Boa Sorte! de: {nome_escola}\")\n",
        "  print(f\"Baseado no cálculo de dados sua media anual foi {notas_media} faltando o valor possivel de recuperar de:\", (round(6 - notas_media, 2)))\n",
        "  resposta = input(\"Gostaria de pedir recurso? (Sim/Não) \").strip().lower()\n",
        "else:\n",
        "  print(f\"\\n{REPROVADO.upper().strip()} \\n O(a) aluno {nome_aluno} da instituição educacional {nome_escola} não bateu a média de pontos exigidas anualmente para sua aprovação.\")\n",
        "  print(f\"Baseado no cálculo de dados sua media anual foi {notas_media} faltando:\", (round(6 - notas_media, 2)))\n",
        "  resposta = input(\"Gostaria de pedir recurso? (Sim/Não) \").strip().lower()\n",
        "\n",
        "# Perguntar sobre recurso\n",
        "if resposta == 'sim':\n",
        "  print(\"\\n Seus dados estão sendo reavaliados... Obrigado pela atenção!\")\n",
        "elif resposta == 'não':\n",
        "  print (\"\\n Obrigado pela atenção!\")"
      ],
      "metadata": {
        "colab": {
          "base_uri": "https://localhost:8080/"
        },
        "id": "wiCRRMPLxSXY",
        "outputId": "1febfe91-e58f-4cb9-fa25-47c707b8202f"
      },
      "execution_count": 2,
      "outputs": [
        {
          "output_type": "stream",
          "name": "stdout",
          "text": [
            "Olá! Bem vindo (a) ao Aprovômetro.\n",
            "Digite seu nome completo:Raul\n",
            "Nome da sua instituição de ensino: IFRN\n",
            "Qual foi sua media de notas anual? 5\n",
            "\n",
            "ALUNO(A) DE RECUPERAÇÃO \n",
            " O(a) aluno Raul não bateu a media requisitada para sua aprovação, porém será possivel fazer sua recupeção. Boa Sorte! de: IFRN\n",
            "Baseado no cálculo de dados sua media anual foi 5.0 faltando o valor possivel de recuperar de: 1.0\n",
            "Gostaria de pedir recurso? (Sim/Não) SIM\n",
            "\n",
            " Seus dados estão sendo reavaliados... Obrigado pela atenção!\n"
          ]
        }
      ]
    },
    {
      "cell_type": "code",
      "source": [],
      "metadata": {
        "id": "Vkx52JLAoOZ7"
      },
      "execution_count": null,
      "outputs": []
    }
  ]
}