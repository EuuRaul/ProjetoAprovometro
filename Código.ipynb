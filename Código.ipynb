{
  "nbformat": 4,
  "nbformat_minor": 0,
  "metadata": {
    "colab": {
      "provenance": [],
      "authorship_tag": "ABX9TyOcVsLkRt9aYxNn7tZhelN4"
    },
    "kernelspec": {
      "name": "python3",
      "display_name": "Python 3"
    },
    "language_info": {
      "name": "python"
    }
  },
  "cells": [
    {
      "cell_type": "code",
      "source": [
        "# Abertura do Projeto\n",
        "print(\"Olá! Bem vindo (a) ao Aprovômetro.\")\n",
        "nome_aluno = input(\"Digite seu nome completo:\")\n",
        "nome_escola = input(\"Nome da sua instituição de ensino: \")\n",
        "notas_media = float(input(\"Qual foi sua media de notas anual? \"))\n",
        "APROVAÇÃO = \"aluno(a) aprovado\"\n",
        "RECUPERAÇÃO = \"aluno(a) de recuperação\"\n",
        "REPROVADO = \"aluno(a) reprovado\"\n",
        "\n",
        "# Validação de entrada de nota\n",
        "if notas_media >= 6.0:\n",
        "  print(f\"\\n{(APROVAÇÃO.upper().strip())} \\n Parabéns {nome_aluno}! O {nome_escola} lê deseja parábens por sua aprovação.\")\n",
        "  print(f\"Baseado no cálculo de dados sua media anual foi: {notas_media}\" )\n",
        "  resposta = input(\"Gostaria de pedir recurso? (Sim/Não) \").strip().lower()\n",
        "elif 6.0 > notas_media >= 4.0:\n",
        "  print(f\"\\n{RECUPERAÇÃO.upper().strip()} \\n O(a) aluno {nome_aluno} não bateu a media requisitada para sua aprovação, porém será possivel fazer sua recupeção. Boa Sorte! de: {nome_escola}\")\n",
        "  print(f\"Baseado no cálculo de dados sua media anual foi {notas_media} faltando o valor possivel de recuperar de:\", (round(6 - notas_media, 2)))\n",
        "  resposta = input(\"Gostaria de pedir recurso? (Sim/Não) \").strip().lower()\n",
        "else:\n",
        "  print(f\"\\n{REPROVADO.upper().strip()} \\n O(a) aluno {nome_aluno} da instituição educacional {nome_escola} não bateu a média de pontos exigidas anualmente para sua aprovação.\")\n",
        "  print(f\"Baseado no cálculo de dados sua media anual foi {notas_media} faltando:\", (round(6 - notas_media, 2)))\n",
        "  resposta = input(\"Gostaria de pedir recurso? (Sim/Não) \")\n",
        "\n",
        "# Perguntar sobre recurso\n",
        "if resposta == 'sim':\n",
        "  print(\"\\n Seus dados estão sendo reavaliados... Obrigado pela atenção!\")\n",
        "elif resposta == 'não':\n",
        "  print (\"\\n Obrigado pela atenção!\")"
      ],
      "metadata": {
        "colab": {
          "base_uri": "https://localhost:8080/"
        },
        "id": "wiCRRMPLxSXY",
        "outputId": "af75066a-4e13-4368-d133-13c400422bc1"
      },
      "execution_count": null,
      "outputs": [
        {
          "output_type": "stream",
          "name": "stdout",
          "text": [
            "Olá! Bem vindo (a) ao Aprovômetro.\n"
          ]
        }
      ]
    }
  ]
}